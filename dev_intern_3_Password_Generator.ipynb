{
 "cells": [
  {
   "cell_type": "code",
   "execution_count": 5,
   "id": "2789c7ac",
   "metadata": {},
   "outputs": [
    {
     "name": "stdout",
     "output_type": "stream",
     "text": [
      "Password generated: p%4OPW1FZiVj\n"
     ]
    }
   ],
   "source": [
    "import random, string\n",
    "\n",
    "password_length = 12\n",
    "\n",
    "characters = string.ascii_letters + string.digits + string.punctuation\n",
    "\n",
    "password = \"\"   \n",
    "\n",
    "for index in range(password_length):\n",
    "    password = password + random.choice(characters)\n",
    "\n",
    "print(\"Password generated: {}\".format(password))"
   ]
  },
  {
   "cell_type": "code",
   "execution_count": null,
   "id": "7fc69be8",
   "metadata": {},
   "outputs": [],
   "source": []
  }
 ],
 "metadata": {
  "kernelspec": {
   "display_name": "Python 3 (ipykernel)",
   "language": "python",
   "name": "python3"
  },
  "language_info": {
   "codemirror_mode": {
    "name": "ipython",
    "version": 3
   },
   "file_extension": ".py",
   "mimetype": "text/x-python",
   "name": "python",
   "nbconvert_exporter": "python",
   "pygments_lexer": "ipython3",
   "version": "3.10.12"
  }
 },
 "nbformat": 4,
 "nbformat_minor": 5
}
