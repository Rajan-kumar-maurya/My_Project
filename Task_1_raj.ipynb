{
 "cells": [
  {
   "cell_type": "code",
   "execution_count": 1,
   "id": "c45ad70a",
   "metadata": {},
   "outputs": [
    {
     "name": "stdout",
     "output_type": "stream",
     "text": [
      "  Company Name Model Name Fuel Type Body Style  Car Length\n",
      "0       Toyota    Corolla    Petrol      Sedan        4500\n",
      "1        Honda      Civic    Petrol      Sedan        4700\n",
      "2      Hyundai        i20    Petrol  Hatchback        3900\n",
      "3         Ford   EcoSport    Petrol        SUV        4200\n"
     ]
    }
   ],
   "source": [
    "import pandas as pd\n",
    "\n",
    "# Read the CSV file\n",
    "cars_df = pd.read_csv('cars.csv')\n",
    "\n",
    "print(cars_df)"
   ]
  },
  {
   "cell_type": "code",
   "execution_count": 2,
   "id": "4a36f068",
   "metadata": {},
   "outputs": [
    {
     "name": "stdout",
     "output_type": "stream",
     "text": [
      "  Company Name Model Name  On road pricing  Loan amount  Monthly EMI  \\\n",
      "0       Toyota    Corolla          1200000       800000        20000   \n",
      "1        Honda      Civic          1300000       900000        22000   \n",
      "2      Hyundai        i20           800000       500000        18000   \n",
      "3         Ford   EcoSport          1100000       700000        25000   \n",
      "\n",
      "   Interest Rate  Monthly Principal Monthly Interest  \n",
      "0          0.100                NaN              Nan  \n",
      "1          0.090                NaN              Nan  \n",
      "2          0.085                NaN              Nan  \n",
      "3          0.115                NaN              Nan  \n"
     ]
    }
   ],
   "source": [
    "\n",
    "\n",
    "# Read the Excel file\n",
    "car_pricing_df = pd.read_excel('car_pricing.xlsx')\n",
    "print(car_pricing_df)"
   ]
  },
  {
   "cell_type": "code",
   "execution_count": 3,
   "id": "9462358e",
   "metadata": {},
   "outputs": [],
   "source": [
    "#3. Write the code to read the csv file and the excel file and convert them into the Data frame.\n",
    "\n",
    "# Read the CSV file\n",
    "cars_df = pd.read_csv('cars.csv')\n",
    "\n",
    "# Read the Excel file\n",
    "car_pricing_df = pd.read_excel('car_pricing.xlsx')\n",
    "\n"
   ]
  },
  {
   "cell_type": "code",
   "execution_count": 4,
   "id": "2e705ef3",
   "metadata": {},
   "outputs": [
    {
     "name": "stdout",
     "output_type": "stream",
     "text": [
      "  Company Name Model Name Fuel Type Body Style  Car Length  On road pricing  \\\n",
      "0       Toyota    Corolla    Petrol      Sedan        4500          1200000   \n",
      "1        Honda      Civic    Petrol      Sedan        4700          1300000   \n",
      "2      Hyundai        i20    Petrol  Hatchback        3900           800000   \n",
      "3         Ford   EcoSport    Petrol        SUV        4200          1100000   \n",
      "\n",
      "   Loan amount  Monthly EMI  Interest Rate  Monthly Principal Monthly Interest  \n",
      "0       800000        20000          0.100                NaN              Nan  \n",
      "1       900000        22000          0.090                NaN              Nan  \n",
      "2       500000        18000          0.085                NaN              Nan  \n",
      "3       700000        25000          0.115                NaN              Nan  \n"
     ]
    }
   ],
   "source": [
    "merged_df = pd.merge(cars_df, car_pricing_df, on=['Company Name', 'Model Name'])\n",
    "print(merged_df)\n"
   ]
  },
  {
   "cell_type": "code",
   "execution_count": 5,
   "id": "4e8b1343",
   "metadata": {},
   "outputs": [],
   "source": [
    "merged_df.fillna(value=0, inplace=True)\n"
   ]
  },
  {
   "cell_type": "code",
   "execution_count": 6,
   "id": "c6348211",
   "metadata": {},
   "outputs": [],
   "source": [
    "gst_rate = 0.18  # Assuming 18% GST rate\n",
    "\n",
    "merged_df['On road pricing'] = merged_df['On road pricing'] + (gst_rate * merged_df['On road pricing'])\n"
   ]
  },
  {
   "cell_type": "code",
   "execution_count": 7,
   "id": "21e8a70d",
   "metadata": {},
   "outputs": [
    {
     "name": "stdout",
     "output_type": "stream",
     "text": [
      "0    1416000.0\n",
      "1    1534000.0\n",
      "2     944000.0\n",
      "3    1298000.0\n",
      "Name: On road pricing, dtype: float64\n"
     ]
    }
   ],
   "source": [
    "print(merged_df['On road pricing'])"
   ]
  },
  {
   "cell_type": "code",
   "execution_count": null,
   "id": "9e406d86",
   "metadata": {},
   "outputs": [],
   "source": []
  }
 ],
 "metadata": {
  "kernelspec": {
   "display_name": "Python 3 (ipykernel)",
   "language": "python",
   "name": "python3"
  },
  "language_info": {
   "codemirror_mode": {
    "name": "ipython",
    "version": 3
   },
   "file_extension": ".py",
   "mimetype": "text/x-python",
   "name": "python",
   "nbconvert_exporter": "python",
   "pygments_lexer": "ipython3",
   "version": "3.10.9"
  }
 },
 "nbformat": 4,
 "nbformat_minor": 5
}
