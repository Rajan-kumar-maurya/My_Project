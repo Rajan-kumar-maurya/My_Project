{
 "cells": [
  {
   "cell_type": "code",
   "execution_count": 1,
   "id": "ad50b42f",
   "metadata": {},
   "outputs": [],
   "source": [
    "import pandas as pd\n",
    "\n",
    "# Read the Titanic dataset into a DataFrame\n",
    "df = pd.read_csv('titanic.csv')"
   ]
  },
  {
   "cell_type": "code",
   "execution_count": 2,
   "id": "0319b6af",
   "metadata": {},
   "outputs": [
    {
     "name": "stdout",
     "output_type": "stream",
     "text": [
      "Names of passengers younger than 35 years:\n",
      "0                                  Kelly, Mr. James\n",
      "3                                  Wirz, Mr. Albert\n",
      "4      Hirvonen, Mrs. Alexander (Helga E Lindqvist)\n",
      "5                        Svensson, Mr. Johan Cervin\n",
      "6                              Connolly, Miss. Kate\n",
      "                           ...                     \n",
      "403                          Carrau, Mr. Jose Pedro\n",
      "405    Nourney, Mr. Alfred (Baron von Drachstedt\")\"\n",
      "406                       Ware, Mr. William Jeffery\n",
      "409                       Peacock, Miss. Treasteall\n",
      "412                  Henriksson, Miss. Jenny Lovisa\n",
      "Name: Name, Length: 222, dtype: object\n"
     ]
    }
   ],
   "source": [
    "# 2. Find names of passengers younger than 35 years\n",
    "young_passengers = df[df['Age'] < 35]['Name']\n",
    "print(\"Names of passengers younger than 35 years:\")\n",
    "print(young_passengers)"
   ]
  },
  {
   "cell_type": "code",
   "execution_count": 3,
   "id": "aafa16f2",
   "metadata": {},
   "outputs": [
    {
     "name": "stdout",
     "output_type": "stream",
     "text": [
      "Rows 10 to 25 and columns 3 to 5:\n",
      "                                                 Name     Sex   Age\n",
      "10                                   Ilieff, Mr. Ylio    male   NaN\n",
      "11                         Jones, Mr. Charles Cresson    male  46.0\n",
      "12      Snyder, Mrs. John Pillsbury (Nelle Stevenson)  female  23.0\n",
      "13                               Howard, Mr. Benjamin    male  63.0\n",
      "14  Chaffee, Mrs. Herbert Fuller (Carrie Constance...  female  47.0\n",
      "15      del Carlo, Mrs. Sebastiano (Argenia Genovesi)  female  24.0\n",
      "16                                  Keane, Mr. Daniel    male  35.0\n",
      "17                                  Assaf, Mr. Gerios    male  21.0\n",
      "18                       Ilmakangas, Miss. Ida Livija  female  27.0\n",
      "19              Assaf Khalil, Mrs. Mariana (Miriam\")\"  female  45.0\n",
      "20                             Rothschild, Mr. Martin    male  55.0\n",
      "21                          Olsen, Master. Artur Karl    male   9.0\n",
      "22               Flegenheim, Mrs. Alfred (Antoinette)  female   NaN\n",
      "23                    Williams, Mr. Richard Norris II    male  21.0\n",
      "24    Ryerson, Mrs. Arthur Larned (Emily Maria Borie)  female  48.0\n",
      "25                            Robins, Mr. Alexander A    male  50.0\n"
     ]
    }
   ],
   "source": [
    "# 3. Print rows from index 10 to 25 and columns 3 to 5\n",
    "print(\"Rows 10 to 25 and columns 3 to 5:\")\n",
    "print(df.iloc[10:26, 3:6])\n"
   ]
  },
  {
   "cell_type": "code",
   "execution_count": 4,
   "id": "06c35148",
   "metadata": {},
   "outputs": [
    {
     "name": "stdout",
     "output_type": "stream",
     "text": [
      "Statistics for Age and Fare:\n",
      "             Age        Fare\n",
      "min      0.17000    0.000000\n",
      "max     76.00000  512.329200\n",
      "mean    30.27259   35.627188\n",
      "median  27.00000   14.454200\n"
     ]
    }
   ],
   "source": [
    "# 4. Find statistics aggregate of Age & Fare using the DataFrame.agg() method\n",
    "statistics = df[['Age', 'Fare']].agg(['min', 'max', 'mean', 'median'])\n",
    "print(\"Statistics for Age and Fare:\")\n",
    "print(statistics)\n"
   ]
  },
  {
   "cell_type": "code",
   "execution_count": 5,
   "id": "cb692cd2",
   "metadata": {},
   "outputs": [
    {
     "name": "stdout",
     "output_type": "stream",
     "text": [
      "Mean ticket fare price for each sex and cabin class combination:\n",
      "Sex     Pclass\n",
      "female  1         115.591168\n",
      "        2          26.438750\n",
      "        3          13.735129\n",
      "male    1          75.586551\n",
      "        2          20.184654\n",
      "        3          11.826350\n",
      "Name: Fare, dtype: float64\n"
     ]
    }
   ],
   "source": [
    "# 5. Find mean ticket fare price for each sex and cabin class combination\n",
    "mean_fare_by_sex_class = df.groupby(['Sex', 'Pclass'])['Fare'].mean()\n",
    "print(\"Mean ticket fare price for each sex and cabin class combination:\")\n",
    "print(mean_fare_by_sex_class)"
   ]
  },
  {
   "cell_type": "code",
   "execution_count": null,
   "id": "98c4e4f2",
   "metadata": {},
   "outputs": [],
   "source": []
  }
 ],
 "metadata": {
  "kernelspec": {
   "display_name": "Python 3 (ipykernel)",
   "language": "python",
   "name": "python3"
  },
  "language_info": {
   "codemirror_mode": {
    "name": "ipython",
    "version": 3
   },
   "file_extension": ".py",
   "mimetype": "text/x-python",
   "name": "python",
   "nbconvert_exporter": "python",
   "pygments_lexer": "ipython3",
   "version": "3.10.9"
  }
 },
 "nbformat": 4,
 "nbformat_minor": 5
}
