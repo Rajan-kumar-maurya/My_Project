{
 "cells": [
  {
   "cell_type": "code",
   "execution_count": 1,
   "id": "3e5c426c",
   "metadata": {},
   "outputs": [
    {
     "name": "stdout",
     "output_type": "stream",
     "text": [
      "Enter a number between 1 and 10050\n",
      "your guess was high, please enter a lower number\n",
      "Enter a number between 1 and 10040\n",
      "your guess was high, please enter a lower number\n",
      "Enter a number between 1 and 10030\n",
      "your guess was high, please enter a lower number\n",
      "Enter a number between 1 and 10020\n",
      "your guess was high, please enter a lower number\n",
      "Enter a number between 1 and 10010\n",
      "your guess was high, please enter a lower number\n",
      "Enter a number between 1 and 1005\n",
      "your guess was high, please enter a lower number\n",
      "Enter a number between 1 and 1004\n",
      "your guess was high, please enter a lower number\n",
      "Enter a number between 1 and 1003\n",
      "You won!\n",
      "Number of turns you have used:  8\n"
     ]
    }
   ],
   "source": [
    "# guess the number game in Python by CodeSpeedy.com\n",
    "import random\n",
    "random_number = random.randint(1,100)\n",
    "win = False\n",
    "Turns =0\n",
    "while win==False:\n",
    "    Your_guess = input(\"Enter a number between 1 and 100\")\n",
    "    Turns +=1\n",
    "    if random_number==int(Your_guess):\n",
    "        print(\"You won!\")\n",
    "        print(\"Number of turns you have used: \",Turns)\n",
    "        win == True\n",
    "        break\n",
    "    else:\n",
    "     if random_number>int(Your_guess):\n",
    "        print(\"Your Guess was low, Please enter a higher number\")\n",
    "     else:\n",
    "        print(\"your guess was high, please enter a lower number\")"
   ]
  },
  {
   "cell_type": "code",
   "execution_count": null,
   "id": "709b8641",
   "metadata": {},
   "outputs": [],
   "source": []
  }
 ],
 "metadata": {
  "kernelspec": {
   "display_name": "Python 3 (ipykernel)",
   "language": "python",
   "name": "python3"
  },
  "language_info": {
   "codemirror_mode": {
    "name": "ipython",
    "version": 3
   },
   "file_extension": ".py",
   "mimetype": "text/x-python",
   "name": "python",
   "nbconvert_exporter": "python",
   "pygments_lexer": "ipython3",
   "version": "3.10.12"
  }
 },
 "nbformat": 4,
 "nbformat_minor": 5
}
