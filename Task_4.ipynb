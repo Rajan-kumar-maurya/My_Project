{
 "cells": [
  {
   "cell_type": "code",
   "execution_count": 15,
   "id": "7960ef82",
   "metadata": {},
   "outputs": [],
   "source": [
    "import numpy as np\n",
    "\n",
    "# Task 1: Create a NumPy array with the given values\n",
    "array1 = np.array([1, 2, 3, 4, 5])"
   ]
  },
  {
   "cell_type": "code",
   "execution_count": 16,
   "id": "92c181fc",
   "metadata": {},
   "outputs": [
    {
     "name": "stdout",
     "output_type": "stream",
     "text": [
      "Shape of array1: (5,)\n"
     ]
    }
   ],
   "source": [
    "# Task 2: Print the shape of the array\n",
    "print(\"Shape of array1:\", array1.shape)"
   ]
  },
  {
   "cell_type": "code",
   "execution_count": 24,
   "id": "f543028f",
   "metadata": {},
   "outputs": [],
   "source": [
    "# Task 3: Reshape the array into a 2D array with 2 rows and 3 columns\n",
    "array2 = np.array([1, 2, 3, 4, 5,6])\n",
    "reshaped_array = array2.reshape(2, 3)"
   ]
  },
  {
   "cell_type": "code",
   "execution_count": 25,
   "id": "da146677",
   "metadata": {},
   "outputs": [
    {
     "name": "stdout",
     "output_type": "stream",
     "text": [
      "Shape of reshaped array: (2, 3)\n"
     ]
    }
   ],
   "source": [
    "# Task 4: Print the shape of the new array\n",
    "print(\"Shape of reshaped array:\", reshaped_array.shape)"
   ]
  },
  {
   "cell_type": "code",
   "execution_count": 32,
   "id": "0898e3dd",
   "metadata": {},
   "outputs": [],
   "source": [
    "# Task 5: Create a second NumPy array with the given values\n",
    "array3 = np.array([6, 7, 8, 9, 10])"
   ]
  },
  {
   "cell_type": "code",
   "execution_count": 33,
   "id": "0c1c026b",
   "metadata": {},
   "outputs": [
    {
     "name": "stdout",
     "output_type": "stream",
     "text": [
      "[[ 1  6]\n",
      " [ 2  7]\n",
      " [ 3  8]\n",
      " [ 4  9]\n",
      " [ 5 10]]\n"
     ]
    }
   ],
   "source": [
    "# Task 6: Concatenate the two arrays horizontally\n",
    "\n",
    "# Reshape array1 into a 2D array with 1 column\n",
    "array1_2d = array1.reshape(-1, 1)\n",
    "\n",
    "# Concatenate the two arrays horizontally\n",
    "concatenated_array = np.concatenate((array1_2d, np.expand_dims(array3, axis=1)), axis=1)\n",
    "\n",
    "# Print the resulting concatenated array\n",
    "print(concatenated_array)"
   ]
  },
  {
   "cell_type": "code",
   "execution_count": 34,
   "id": "d346450c",
   "metadata": {},
   "outputs": [
    {
     "name": "stdout",
     "output_type": "stream",
     "text": [
      "Concatenated array:\n",
      "[[ 1  6]\n",
      " [ 2  7]\n",
      " [ 3  8]\n",
      " [ 4  9]\n",
      " [ 5 10]]\n"
     ]
    }
   ],
   "source": [
    "# Task 7: Print the resulting array\n",
    "print(\"Concatenated array:\")\n",
    "print(concatenated_array)\n"
   ]
  },
  {
   "cell_type": "code",
   "execution_count": 35,
   "id": "4ab9ec32",
   "metadata": {},
   "outputs": [],
   "source": [
    "# Task 8: Compute the mean, median, and standard deviation of the resulting array\n",
    "mean = np.mean(concatenated_array)\n",
    "median = np.median(concatenated_array)\n",
    "std_dev = np.std(concatenated_array)\n"
   ]
  },
  {
   "cell_type": "code",
   "execution_count": 36,
   "id": "c46aea07",
   "metadata": {},
   "outputs": [
    {
     "name": "stdout",
     "output_type": "stream",
     "text": [
      "Mean: 5.5\n",
      "Median: 5.5\n",
      "Standard Deviation: 2.8722813232690143\n"
     ]
    }
   ],
   "source": [
    "print(\"Mean:\", mean)\n",
    "print(\"Median:\", median)\n",
    "print(\"Standard Deviation:\", std_dev)\n"
   ]
  },
  {
   "cell_type": "code",
   "execution_count": null,
   "id": "4c6af393",
   "metadata": {},
   "outputs": [],
   "source": []
  }
 ],
 "metadata": {
  "kernelspec": {
   "display_name": "Python 3 (ipykernel)",
   "language": "python",
   "name": "python3"
  },
  "language_info": {
   "codemirror_mode": {
    "name": "ipython",
    "version": 3
   },
   "file_extension": ".py",
   "mimetype": "text/x-python",
   "name": "python",
   "nbconvert_exporter": "python",
   "pygments_lexer": "ipython3",
   "version": "3.10.9"
  }
 },
 "nbformat": 4,
 "nbformat_minor": 5
}
