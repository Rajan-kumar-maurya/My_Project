{
 "cells": [
  {
   "cell_type": "code",
   "execution_count": 1,
   "id": "f434a3e2",
   "metadata": {},
   "outputs": [],
   "source": [
    "import openpyxl\n",
    "\n",
    "# Load the original spreadsheet\n",
    "wb = openpyxl.load_workbook('original.xlsx')\n",
    "sheet = wb.active"
   ]
  },
  {
   "cell_type": "code",
   "execution_count": 2,
   "id": "2c9630f4",
   "metadata": {},
   "outputs": [],
   "source": [
    "# Create a dictionary to store the total quantity of each fruit\n",
    "fruit_totals = {}"
   ]
  },
  {
   "cell_type": "code",
   "execution_count": 3,
   "id": "31f9f81a",
   "metadata": {},
   "outputs": [],
   "source": [
    "# Iterate over the rows in the spreadsheet (skipping the header row)\n",
    "for row in sheet.iter_rows(min_row=2, values_only=True):\n",
    "    fruit = row[0]\n",
    "    quantity = row[1]"
   ]
  },
  {
   "cell_type": "code",
   "execution_count": 4,
   "id": "c64cd494",
   "metadata": {},
   "outputs": [],
   "source": [
    " # Update the total quantity for the fruit\n",
    "if fruit in fruit_totals:\n",
    "        fruit_totals[fruit] += quantity\n",
    "else:\n",
    "        fruit_totals[fruit] = quantity"
   ]
  },
  {
   "cell_type": "code",
   "execution_count": 5,
   "id": "40b6569f",
   "metadata": {},
   "outputs": [],
   "source": [
    "# Create a new workbook for the results\n",
    "new_wb = openpyxl.Workbook()\n",
    "new_sheet = new_wb.active"
   ]
  },
  {
   "cell_type": "code",
   "execution_count": 6,
   "id": "1c23691e",
   "metadata": {},
   "outputs": [],
   "source": [
    "# Write the header row\n",
    "new_sheet['A1'] = 'Fruit'\n",
    "new_sheet['B1'] = 'Total Quantity'"
   ]
  },
  {
   "cell_type": "code",
   "execution_count": 7,
   "id": "a71ec572",
   "metadata": {},
   "outputs": [],
   "source": [
    "# Write the fruit and total quantity data to the new spreadsheet\n",
    "row_num = 2\n",
    "for fruit, total_quantity in fruit_totals.items():\n",
    "    new_sheet['A{}'.format(row_num)] = fruit\n",
    "    new_sheet['B{}'.format(row_num)] = total_quantity\n",
    "    row_num += 1"
   ]
  },
  {
   "cell_type": "code",
   "execution_count": 8,
   "id": "b25b21e6",
   "metadata": {},
   "outputs": [],
   "source": [
    "# Save the new spreadsheet\n",
    "new_wb.save('results.xlsx')"
   ]
  },
  {
   "cell_type": "code",
   "execution_count": null,
   "id": "df81e842",
   "metadata": {},
   "outputs": [],
   "source": []
  }
 ],
 "metadata": {
  "kernelspec": {
   "display_name": "Python 3 (ipykernel)",
   "language": "python",
   "name": "python3"
  },
  "language_info": {
   "codemirror_mode": {
    "name": "ipython",
    "version": 3
   },
   "file_extension": ".py",
   "mimetype": "text/x-python",
   "name": "python",
   "nbconvert_exporter": "python",
   "pygments_lexer": "ipython3",
   "version": "3.10.9"
  }
 },
 "nbformat": 4,
 "nbformat_minor": 5
}
