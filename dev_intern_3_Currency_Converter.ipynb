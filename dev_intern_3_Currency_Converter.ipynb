{
 "cells": [
  {
   "cell_type": "code",
   "execution_count": 6,
   "id": "04eb0da5",
   "metadata": {},
   "outputs": [
    {
     "name": "stdout",
     "output_type": "stream",
     "text": [
      "Enter the amount: 100\n",
      "Enter the currency you want to convert from: USD\n",
      "Enter the currency you want to convert to: EUR\n",
      "100.00 USD is equal to 92.76 EUR\n"
     ]
    }
   ],
   "source": [
    "from forex_python.converter import CurrencyRates\n",
    "\n",
    "def currency_converter():\n",
    "    c = CurrencyRates()\n",
    "    \n",
    "    # Input amount and currencies\n",
    "    amount = float(input(\"Enter the amount: \"))\n",
    "    from_currency = input(\"Enter the currency you want to convert from: \").upper()\n",
    "    to_currency = input(\"Enter the currency you want to convert to: \").upper()\n",
    "    \n",
    "    # Retrieve the exchange rate\n",
    "    exchange_rate = c.get_rate(from_currency, to_currency)\n",
    "    \n",
    "    # Calculate the converted amount\n",
    "    converted_amount = amount * exchange_rate\n",
    "    \n",
    "    # Print the result\n",
    "    print(f\"{amount:.2f} {from_currency} is equal to {converted_amount:.2f} {to_currency}\")\n",
    "\n",
    "if __name__ == \"__main__\":\n",
    "    currency_converter()\n"
   ]
  },
  {
   "cell_type": "code",
   "execution_count": null,
   "id": "24b8df21",
   "metadata": {},
   "outputs": [],
   "source": []
  }
 ],
 "metadata": {
  "kernelspec": {
   "display_name": "Python 3 (ipykernel)",
   "language": "python",
   "name": "python3"
  },
  "language_info": {
   "codemirror_mode": {
    "name": "ipython",
    "version": 3
   },
   "file_extension": ".py",
   "mimetype": "text/x-python",
   "name": "python",
   "nbconvert_exporter": "python",
   "pygments_lexer": "ipython3",
   "version": "3.10.12"
  }
 },
 "nbformat": 4,
 "nbformat_minor": 5
}
